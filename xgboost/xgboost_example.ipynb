{
 "cells": [
  {
   "cell_type": "markdown",
   "id": "75e92cb4",
   "metadata": {},
   "source": [
    "## An example of how to run XGBoost"
   ]
  },
  {
   "cell_type": "markdown",
   "id": "55df4016",
   "metadata": {},
   "source": [
    "### Step1. Install and Import"
   ]
  },
  {
   "cell_type": "code",
   "execution_count": null,
   "id": "c04ff53f",
   "metadata": {},
   "outputs": [],
   "source": [
    "# Install\n",
    "#!pip install xgboost\n",
    "#!pip install hyperopt"
   ]
  },
  {
   "cell_type": "code",
   "execution_count": 1,
   "id": "75154448",
   "metadata": {},
   "outputs": [],
   "source": [
    "# Import packages\n",
    "import xgboost as xgb\n",
    "import pandas as pd\n",
    "import numpy as np\n",
    "from sklearn.preprocessing import LabelEncoder          \n",
    "from sklearn.model_selection import train_test_split  \n",
    "from sklearn.tree import DecisionTreeClassifier\n",
    "from sklearn import tree\n",
    "import matplotlib.pyplot as plt \n",
    "from sklearn.metrics import classification_report, accuracy_score\n",
    "# import packages for hyperparameters tuning\n",
    "from hyperopt import STATUS_OK, Trials, fmin, hp, tpe\n"
   ]
  },
  {
   "cell_type": "code",
   "execution_count": 2,
   "id": "ed41675b",
   "metadata": {},
   "outputs": [
    {
     "data": {
      "text/plain": [
       "'1.5.0'"
      ]
     },
     "execution_count": 2,
     "metadata": {},
     "output_type": "execute_result"
    }
   ],
   "source": [
    "xgb.__version__"
   ]
  },
  {
   "cell_type": "markdown",
   "id": "3b0ab443",
   "metadata": {},
   "source": [
    "### Step2. Read data and do pre-processing"
   ]
  },
  {
   "cell_type": "code",
   "execution_count": 3,
   "id": "023aef65",
   "metadata": {},
   "outputs": [
    {
     "data": {
      "text/plain": [
       "(891, 12)"
      ]
     },
     "execution_count": 3,
     "metadata": {},
     "output_type": "execute_result"
    }
   ],
   "source": [
    "# Read data\n",
    "url = 'https://raw.githubusercontent.com/datasciencedojo/datasets/master/titanic.csv'\n",
    "data = pd.read_csv(url)\n",
    "#Find how many rows and columns\n",
    "data.shape"
   ]
  },
  {
   "cell_type": "code",
   "execution_count": 4,
   "id": "05f71a83",
   "metadata": {},
   "outputs": [
    {
     "name": "stdout",
     "output_type": "stream",
     "text": [
      "<class 'pandas.core.frame.DataFrame'>\n",
      "RangeIndex: 891 entries, 0 to 890\n",
      "Data columns (total 12 columns):\n",
      " #   Column       Non-Null Count  Dtype  \n",
      "---  ------       --------------  -----  \n",
      " 0   PassengerId  891 non-null    int64  \n",
      " 1   Survived     891 non-null    int64  \n",
      " 2   Pclass       891 non-null    int64  \n",
      " 3   Name         891 non-null    object \n",
      " 4   Sex          891 non-null    object \n",
      " 5   Age          714 non-null    float64\n",
      " 6   SibSp        891 non-null    int64  \n",
      " 7   Parch        891 non-null    int64  \n",
      " 8   Ticket       891 non-null    object \n",
      " 9   Fare         891 non-null    float64\n",
      " 10  Cabin        204 non-null    object \n",
      " 11  Embarked     889 non-null    object \n",
      "dtypes: float64(2), int64(5), object(5)\n",
      "memory usage: 83.7+ KB\n"
     ]
    }
   ],
   "source": [
    "#Summary of dataset \n",
    "data.info()"
   ]
  },
  {
   "cell_type": "code",
   "execution_count": 5,
   "id": "c6e8ed64",
   "metadata": {},
   "outputs": [
    {
     "data": {
      "text/plain": [
       "PassengerId      0\n",
       "Survived         0\n",
       "Pclass           0\n",
       "Name             0\n",
       "Sex              0\n",
       "Age            177\n",
       "SibSp            0\n",
       "Parch            0\n",
       "Ticket           0\n",
       "Fare             0\n",
       "Cabin          687\n",
       "Embarked         2\n",
       "dtype: int64"
      ]
     },
     "execution_count": 5,
     "metadata": {},
     "output_type": "execute_result"
    }
   ],
   "source": [
    "# Check missing values\n",
    "data.isnull().sum()"
   ]
  },
  {
   "cell_type": "code",
   "execution_count": 6,
   "id": "85ada842",
   "metadata": {},
   "outputs": [],
   "source": [
    "# Drop columns with too many missing values\n",
    "data.drop('Cabin', axis=1, inplace=True)"
   ]
  },
  {
   "cell_type": "code",
   "execution_count": 7,
   "id": "257f552e",
   "metadata": {},
   "outputs": [
    {
     "data": {
      "text/html": [
       "<div>\n",
       "<style scoped>\n",
       "    .dataframe tbody tr th:only-of-type {\n",
       "        vertical-align: middle;\n",
       "    }\n",
       "\n",
       "    .dataframe tbody tr th {\n",
       "        vertical-align: top;\n",
       "    }\n",
       "\n",
       "    .dataframe thead th {\n",
       "        text-align: right;\n",
       "    }\n",
       "</style>\n",
       "<table border=\"1\" class=\"dataframe\">\n",
       "  <thead>\n",
       "    <tr style=\"text-align: right;\">\n",
       "      <th></th>\n",
       "      <th>PassengerId</th>\n",
       "      <th>Survived</th>\n",
       "      <th>Pclass</th>\n",
       "      <th>Name</th>\n",
       "      <th>Sex</th>\n",
       "      <th>Age</th>\n",
       "      <th>SibSp</th>\n",
       "      <th>Parch</th>\n",
       "      <th>Ticket</th>\n",
       "      <th>Fare</th>\n",
       "      <th>Embarked</th>\n",
       "    </tr>\n",
       "  </thead>\n",
       "  <tbody>\n",
       "    <tr>\n",
       "      <th>0</th>\n",
       "      <td>1</td>\n",
       "      <td>0</td>\n",
       "      <td>3</td>\n",
       "      <td>Braund, Mr. Owen Harris</td>\n",
       "      <td>male</td>\n",
       "      <td>22.0</td>\n",
       "      <td>1</td>\n",
       "      <td>0</td>\n",
       "      <td>A/5 21171</td>\n",
       "      <td>7.2500</td>\n",
       "      <td>S</td>\n",
       "    </tr>\n",
       "    <tr>\n",
       "      <th>1</th>\n",
       "      <td>2</td>\n",
       "      <td>1</td>\n",
       "      <td>1</td>\n",
       "      <td>Cumings, Mrs. John Bradley (Florence Briggs Th...</td>\n",
       "      <td>female</td>\n",
       "      <td>38.0</td>\n",
       "      <td>1</td>\n",
       "      <td>0</td>\n",
       "      <td>PC 17599</td>\n",
       "      <td>71.2833</td>\n",
       "      <td>C</td>\n",
       "    </tr>\n",
       "    <tr>\n",
       "      <th>2</th>\n",
       "      <td>3</td>\n",
       "      <td>1</td>\n",
       "      <td>3</td>\n",
       "      <td>Heikkinen, Miss. Laina</td>\n",
       "      <td>female</td>\n",
       "      <td>26.0</td>\n",
       "      <td>0</td>\n",
       "      <td>0</td>\n",
       "      <td>STON/O2. 3101282</td>\n",
       "      <td>7.9250</td>\n",
       "      <td>S</td>\n",
       "    </tr>\n",
       "    <tr>\n",
       "      <th>3</th>\n",
       "      <td>4</td>\n",
       "      <td>1</td>\n",
       "      <td>1</td>\n",
       "      <td>Futrelle, Mrs. Jacques Heath (Lily May Peel)</td>\n",
       "      <td>female</td>\n",
       "      <td>35.0</td>\n",
       "      <td>1</td>\n",
       "      <td>0</td>\n",
       "      <td>113803</td>\n",
       "      <td>53.1000</td>\n",
       "      <td>S</td>\n",
       "    </tr>\n",
       "    <tr>\n",
       "      <th>4</th>\n",
       "      <td>5</td>\n",
       "      <td>0</td>\n",
       "      <td>3</td>\n",
       "      <td>Allen, Mr. William Henry</td>\n",
       "      <td>male</td>\n",
       "      <td>35.0</td>\n",
       "      <td>0</td>\n",
       "      <td>0</td>\n",
       "      <td>373450</td>\n",
       "      <td>8.0500</td>\n",
       "      <td>S</td>\n",
       "    </tr>\n",
       "  </tbody>\n",
       "</table>\n",
       "</div>"
      ],
      "text/plain": [
       "   PassengerId  Survived  Pclass  \\\n",
       "0            1         0       3   \n",
       "1            2         1       1   \n",
       "2            3         1       3   \n",
       "3            4         1       1   \n",
       "4            5         0       3   \n",
       "\n",
       "                                                Name     Sex   Age  SibSp  \\\n",
       "0                            Braund, Mr. Owen Harris    male  22.0      1   \n",
       "1  Cumings, Mrs. John Bradley (Florence Briggs Th...  female  38.0      1   \n",
       "2                             Heikkinen, Miss. Laina  female  26.0      0   \n",
       "3       Futrelle, Mrs. Jacques Heath (Lily May Peel)  female  35.0      1   \n",
       "4                           Allen, Mr. William Henry    male  35.0      0   \n",
       "\n",
       "   Parch            Ticket     Fare Embarked  \n",
       "0      0         A/5 21171   7.2500        S  \n",
       "1      0          PC 17599  71.2833        C  \n",
       "2      0  STON/O2. 3101282   7.9250        S  \n",
       "3      0            113803  53.1000        S  \n",
       "4      0            373450   8.0500        S  "
      ]
     },
     "execution_count": 7,
     "metadata": {},
     "output_type": "execute_result"
    }
   ],
   "source": [
    "# Inspect data\n",
    "data.head()"
   ]
  },
  {
   "cell_type": "code",
   "execution_count": 8,
   "id": "438d3306",
   "metadata": {},
   "outputs": [
    {
     "data": {
      "text/html": [
       "<div>\n",
       "<style scoped>\n",
       "    .dataframe tbody tr th:only-of-type {\n",
       "        vertical-align: middle;\n",
       "    }\n",
       "\n",
       "    .dataframe tbody tr th {\n",
       "        vertical-align: top;\n",
       "    }\n",
       "\n",
       "    .dataframe thead th {\n",
       "        text-align: right;\n",
       "    }\n",
       "</style>\n",
       "<table border=\"1\" class=\"dataframe\">\n",
       "  <thead>\n",
       "    <tr style=\"text-align: right;\">\n",
       "      <th></th>\n",
       "      <th>PassengerId</th>\n",
       "      <th>Survived</th>\n",
       "      <th>Pclass</th>\n",
       "      <th>Name</th>\n",
       "      <th>Sex</th>\n",
       "      <th>Age</th>\n",
       "      <th>SibSp</th>\n",
       "      <th>Parch</th>\n",
       "      <th>Ticket</th>\n",
       "      <th>Fare</th>\n",
       "      <th>Embarked</th>\n",
       "    </tr>\n",
       "  </thead>\n",
       "  <tbody>\n",
       "    <tr>\n",
       "      <th>0</th>\n",
       "      <td>1</td>\n",
       "      <td>0</td>\n",
       "      <td>3</td>\n",
       "      <td>Braund, Mr. Owen Harris</td>\n",
       "      <td>1</td>\n",
       "      <td>22.0</td>\n",
       "      <td>1</td>\n",
       "      <td>0</td>\n",
       "      <td>A/5 21171</td>\n",
       "      <td>7.2500</td>\n",
       "      <td>S</td>\n",
       "    </tr>\n",
       "    <tr>\n",
       "      <th>1</th>\n",
       "      <td>2</td>\n",
       "      <td>1</td>\n",
       "      <td>1</td>\n",
       "      <td>Cumings, Mrs. John Bradley (Florence Briggs Th...</td>\n",
       "      <td>0</td>\n",
       "      <td>38.0</td>\n",
       "      <td>1</td>\n",
       "      <td>0</td>\n",
       "      <td>PC 17599</td>\n",
       "      <td>71.2833</td>\n",
       "      <td>C</td>\n",
       "    </tr>\n",
       "    <tr>\n",
       "      <th>2</th>\n",
       "      <td>3</td>\n",
       "      <td>1</td>\n",
       "      <td>3</td>\n",
       "      <td>Heikkinen, Miss. Laina</td>\n",
       "      <td>0</td>\n",
       "      <td>26.0</td>\n",
       "      <td>0</td>\n",
       "      <td>0</td>\n",
       "      <td>STON/O2. 3101282</td>\n",
       "      <td>7.9250</td>\n",
       "      <td>S</td>\n",
       "    </tr>\n",
       "    <tr>\n",
       "      <th>3</th>\n",
       "      <td>4</td>\n",
       "      <td>1</td>\n",
       "      <td>1</td>\n",
       "      <td>Futrelle, Mrs. Jacques Heath (Lily May Peel)</td>\n",
       "      <td>0</td>\n",
       "      <td>35.0</td>\n",
       "      <td>1</td>\n",
       "      <td>0</td>\n",
       "      <td>113803</td>\n",
       "      <td>53.1000</td>\n",
       "      <td>S</td>\n",
       "    </tr>\n",
       "    <tr>\n",
       "      <th>4</th>\n",
       "      <td>5</td>\n",
       "      <td>0</td>\n",
       "      <td>3</td>\n",
       "      <td>Allen, Mr. William Henry</td>\n",
       "      <td>1</td>\n",
       "      <td>35.0</td>\n",
       "      <td>0</td>\n",
       "      <td>0</td>\n",
       "      <td>373450</td>\n",
       "      <td>8.0500</td>\n",
       "      <td>S</td>\n",
       "    </tr>\n",
       "  </tbody>\n",
       "</table>\n",
       "</div>"
      ],
      "text/plain": [
       "   PassengerId  Survived  Pclass  \\\n",
       "0            1         0       3   \n",
       "1            2         1       1   \n",
       "2            3         1       3   \n",
       "3            4         1       1   \n",
       "4            5         0       3   \n",
       "\n",
       "                                                Name  Sex   Age  SibSp  Parch  \\\n",
       "0                            Braund, Mr. Owen Harris    1  22.0      1      0   \n",
       "1  Cumings, Mrs. John Bradley (Florence Briggs Th...    0  38.0      1      0   \n",
       "2                             Heikkinen, Miss. Laina    0  26.0      0      0   \n",
       "3       Futrelle, Mrs. Jacques Heath (Lily May Peel)    0  35.0      1      0   \n",
       "4                           Allen, Mr. William Henry    1  35.0      0      0   \n",
       "\n",
       "             Ticket     Fare Embarked  \n",
       "0         A/5 21171   7.2500        S  \n",
       "1          PC 17599  71.2833        C  \n",
       "2  STON/O2. 3101282   7.9250        S  \n",
       "3            113803  53.1000        S  \n",
       "4            373450   8.0500        S  "
      ]
     },
     "execution_count": 8,
     "metadata": {},
     "output_type": "execute_result"
    }
   ],
   "source": [
    "# Transfrom attribute\n",
    "le = LabelEncoder()\n",
    "data['Sex'] = le.fit_transform(data['Sex'])\n",
    "data.head()"
   ]
  },
  {
   "cell_type": "code",
   "execution_count": null,
   "id": "f591c901",
   "metadata": {},
   "outputs": [],
   "source": []
  },
  {
   "cell_type": "code",
   "execution_count": 9,
   "id": "cd133be2",
   "metadata": {},
   "outputs": [],
   "source": [
    "# Decide variables to use\n",
    "X = data[['Pclass', 'Sex', 'Age', 'SibSp', 'Parch', 'Fare']]\n",
    "y = data['Survived']"
   ]
  },
  {
   "cell_type": "code",
   "execution_count": 10,
   "id": "68f0c169",
   "metadata": {},
   "outputs": [
    {
     "data": {
      "text/plain": [
       "0    0\n",
       "1    1\n",
       "2    1\n",
       "3    1\n",
       "4    0\n",
       "Name: Survived, dtype: int64"
      ]
     },
     "execution_count": 10,
     "metadata": {},
     "output_type": "execute_result"
    }
   ],
   "source": [
    "y.head()"
   ]
  },
  {
   "cell_type": "code",
   "execution_count": 11,
   "id": "3838f5b2",
   "metadata": {},
   "outputs": [
    {
     "data": {
      "text/plain": [
       "((712, 6), (179, 6))"
      ]
     },
     "execution_count": 11,
     "metadata": {},
     "output_type": "execute_result"
    }
   ],
   "source": [
    "# train/test split (80/20)\n",
    "x_train, x_test, y_train, y_test = train_test_split(X, y, test_size=0.2, random_state=65)\n",
    "x_train.shape , x_test.shape"
   ]
  },
  {
   "cell_type": "markdown",
   "id": "71d87a86",
   "metadata": {},
   "source": [
    "### Step4. Run XGBoost with Hyperparameter tunining"
   ]
  },
  {
   "cell_type": "markdown",
   "id": "3880f89e",
   "metadata": {},
   "source": [
    "#### Bayesian Optimization implementation \n",
    "To build more robust models with XGBoost, we should always perform k-fold cross validation.\n",
    "- booster[default = gbtree]\n",
    "- eta [default=0.3, alias: learning_rate]\n",
    "- gamma [default=0, alias: min_split_loss]\n",
    "- max_depth [default=6]\n",
    "- min_child_weight [default=1]\n",
    "- max_delta_step [default=0]\n",
    "- subsample [default=1]\n",
    "- colsample_bytree, colsample_bylevel, colsample_bynode [default=1]\n",
    "- lambda [default=1, alias: reg_lambda]\n",
    "- alpha [default=0, alias: reg_alpha]\n",
    "- scale_pos_weight [default=1]\n",
    "\n",
    "- HYPEROPT is a powerful python library that search through an hyperparameter space of values and find the best possible values that yield the minimum of the loss function.\n",
    "\n",
    "- Bayesian Optimization technique uses Hyperopt to tune the model hyperparameters. Hyperopt is a Python library which is used to tune model hyperparameters.\n",
    "\n"
   ]
  },
  {
   "cell_type": "code",
   "execution_count": 23,
   "id": "627b6234",
   "metadata": {},
   "outputs": [],
   "source": [
    "space={'max_depth': hp.quniform(\"max_depth\", 3, 18, 1),\n",
    "        'gamma': hp.uniform ('gamma', 1,9),\n",
    "        'reg_alpha' : hp.quniform('reg_alpha', 40,180,1),\n",
    "        'reg_lambda' : hp.uniform('reg_lambda', 0,1),\n",
    "        'colsample_bytree' : hp.uniform('colsample_bytree', 0.5,1),\n",
    "        'min_child_weight' : hp.quniform('min_child_weight', 0, 10, 1),\n",
    "        'n_estimators': 180,\n",
    "        'seed': 0\n",
    "    }"
   ]
  },
  {
   "cell_type": "code",
   "execution_count": 29,
   "id": "fc246bf3",
   "metadata": {},
   "outputs": [],
   "source": [
    "def objective(space):\n",
    "    clf=xgb.XGBClassifier(use_label_encoder=False,\n",
    "                    n_estimators =space['n_estimators'], max_depth = int(space['max_depth']), gamma = space['gamma'],\n",
    "                    reg_alpha = int(space['reg_alpha']),min_child_weight=int(space['min_child_weight']),\n",
    "                    colsample_bytree=int(space['colsample_bytree']))\n",
    "    \n",
    "    evaluation = [( x_train, y_train), ( x_test, y_test)]\n",
    "    \n",
    "    clf.fit(x_train, y_train,\n",
    "            eval_set=evaluation, eval_metric=\"logloss\",\n",
    "            early_stopping_rounds=10,verbose=False)\n",
    "    \n",
    "\n",
    "    pred = clf.predict(x_test)\n",
    "    accuracy = accuracy_score(y_test, pred>0.5)\n",
    "    print (\"SCORE:\", accuracy)\n",
    "    return {'loss': -accuracy, 'status': STATUS_OK }"
   ]
  },
  {
   "cell_type": "code",
   "execution_count": 30,
   "id": "ed405659",
   "metadata": {},
   "outputs": [
    {
     "name": "stdout",
     "output_type": "stream",
     "text": [
      "SCORE:                                                                          \n",
      "0.6368715083798883                                                              \n",
      "SCORE:                                                                          \n",
      "0.6368715083798883                                                              \n",
      "SCORE:                                                                          \n",
      "0.6368715083798883                                                              \n",
      "SCORE:                                                                          \n",
      "0.6368715083798883                                                              \n",
      "SCORE:                                                                          \n",
      "0.6368715083798883                                                              \n",
      "SCORE:                                                                          \n",
      "0.6368715083798883                                                              \n",
      "SCORE:                                                                          \n",
      "0.6368715083798883                                                              \n",
      "SCORE:                                                                          \n",
      "0.7430167597765364                                                              \n",
      "SCORE:                                                                          \n",
      "0.6368715083798883                                                              \n",
      "SCORE:                                                                          \n",
      "0.770949720670391                                                               \n",
      "SCORE:                                                                          \n",
      "0.6368715083798883                                                              \n",
      "SCORE:                                                                          \n",
      "0.770949720670391                                                               \n",
      "SCORE:                                                                          \n",
      "0.6368715083798883                                                              \n",
      "SCORE:                                                                          \n",
      "0.6368715083798883                                                              \n",
      "SCORE:                                                                          \n",
      "0.8044692737430168                                                              \n",
      "SCORE:                                                                          \n",
      "0.6368715083798883                                                              \n",
      "SCORE:                                                                          \n",
      "0.6368715083798883                                                              \n",
      "SCORE:                                                                          \n",
      "0.6368715083798883                                                              \n",
      "SCORE:                                                                          \n",
      "0.6368715083798883                                                              \n",
      "SCORE:                                                                          \n",
      "0.6368715083798883                                                              \n",
      "SCORE:                                                                          \n",
      "0.8044692737430168                                                              \n",
      "SCORE:                                                                          \n",
      "0.7430167597765364                                                              \n",
      "SCORE:                                                                          \n",
      "0.7430167597765364                                                              \n",
      "SCORE:                                                                          \n",
      "0.8044692737430168                                                              \n",
      "SCORE:                                                                          \n",
      "0.7430167597765364                                                              \n",
      "SCORE:                                                                          \n",
      "0.6368715083798883                                                              \n",
      "SCORE:                                                                          \n",
      "0.8212290502793296                                                              \n",
      "SCORE:                                                                          \n",
      "0.7430167597765364                                                              \n",
      "SCORE:                                                                          \n",
      "0.7988826815642458                                                              \n",
      "SCORE:                                                                          \n",
      "0.6368715083798883                                                              \n",
      "SCORE:                                                                          \n",
      "0.6368715083798883                                                              \n",
      "SCORE:                                                                          \n",
      "0.6368715083798883                                                              \n",
      "SCORE:                                                                          \n",
      "0.6368715083798883                                                              \n",
      "SCORE:                                                                          \n",
      "0.770949720670391                                                               \n",
      "SCORE:                                                                          \n",
      "0.6368715083798883                                                              \n",
      "SCORE:                                                                          \n",
      "0.6368715083798883                                                              \n",
      "SCORE:                                                                          \n",
      "0.7430167597765364                                                              \n",
      "SCORE:                                                                          \n",
      "0.6368715083798883                                                              \n",
      "SCORE:                                                                          \n",
      "0.6368715083798883                                                              \n",
      "SCORE:                                                                          \n",
      "0.6368715083798883                                                              \n",
      "SCORE:                                                                          \n",
      "0.770949720670391                                                               \n",
      "SCORE:                                                                          \n",
      "0.6368715083798883                                                              \n",
      "SCORE:                                                                          \n",
      "0.6368715083798883                                                              \n",
      "SCORE:                                                                          \n",
      "0.6368715083798883                                                              \n",
      "SCORE:                                                                          \n",
      "0.7430167597765364                                                              \n",
      "SCORE:                                                                          \n",
      "0.6368715083798883                                                              \n",
      "SCORE:                                                                          \n",
      "0.6368715083798883                                                              \n",
      "SCORE:                                                                          \n",
      "0.6368715083798883                                                              \n",
      "SCORE:                                                                          \n",
      "0.8212290502793296                                                              \n",
      "SCORE:                                                                          \n",
      "0.6368715083798883                                                              \n",
      "SCORE:                                                                          \n"
     ]
    },
    {
     "name": "stdout",
     "output_type": "stream",
     "text": [
      "0.7877094972067039                                                              \n",
      "SCORE:                                                                          \n",
      "0.6368715083798883                                                              \n",
      "SCORE:                                                                          \n",
      "0.7486033519553073                                                              \n",
      "SCORE:                                                                          \n",
      "0.6368715083798883                                                              \n",
      "SCORE:                                                                          \n",
      "0.6368715083798883                                                              \n",
      "SCORE:                                                                          \n",
      "0.770949720670391                                                               \n",
      "SCORE:                                                                          \n",
      "0.6368715083798883                                                              \n",
      "SCORE:                                                                          \n",
      "0.6368715083798883                                                              \n",
      "SCORE:                                                                          \n",
      "0.6368715083798883                                                              \n",
      "SCORE:                                                                          \n",
      "0.7430167597765364                                                              \n",
      "SCORE:                                                                          \n",
      "0.6368715083798883                                                              \n",
      "SCORE:                                                                          \n",
      "0.6368715083798883                                                              \n",
      "SCORE:                                                                          \n",
      "0.6368715083798883                                                              \n",
      "SCORE:                                                                          \n",
      "0.7430167597765364                                                              \n",
      "SCORE:                                                                          \n",
      "0.6368715083798883                                                              \n",
      "SCORE:                                                                          \n",
      "0.8044692737430168                                                              \n",
      "SCORE:                                                                          \n",
      "0.8044692737430168                                                              \n",
      "SCORE:                                                                          \n",
      "0.7988826815642458                                                              \n",
      "SCORE:                                                                          \n",
      "0.6368715083798883                                                              \n",
      "SCORE:                                                                          \n",
      "0.8044692737430168                                                              \n",
      "SCORE:                                                                          \n",
      "0.6368715083798883                                                              \n",
      "SCORE:                                                                          \n",
      "0.7430167597765364                                                              \n",
      "SCORE:                                                                          \n",
      "0.8044692737430168                                                              \n",
      "SCORE:                                                                          \n",
      "0.7988826815642458                                                              \n",
      "SCORE:                                                                          \n",
      "0.7430167597765364                                                              \n",
      "SCORE:                                                                          \n",
      "0.6368715083798883                                                              \n",
      "SCORE:                                                                          \n",
      "0.6368715083798883                                                              \n",
      "SCORE:                                                                          \n",
      "0.8044692737430168                                                              \n",
      "SCORE:                                                                          \n",
      "0.6368715083798883                                                              \n",
      "SCORE:                                                                          \n",
      "0.7430167597765364                                                              \n",
      "SCORE:                                                                          \n",
      "0.6368715083798883                                                              \n",
      "SCORE:                                                                          \n",
      "0.6368715083798883                                                              \n",
      "SCORE:                                                                          \n",
      "0.6368715083798883                                                              \n",
      "SCORE:                                                                          \n",
      "0.7430167597765364                                                              \n",
      "SCORE:                                                                          \n",
      "0.8044692737430168                                                              \n",
      "SCORE:                                                                          \n",
      "0.6368715083798883                                                              \n",
      "SCORE:                                                                          \n",
      "0.8044692737430168                                                              \n",
      "SCORE:                                                                          \n",
      "0.6368715083798883                                                              \n",
      "SCORE:                                                                          \n",
      "0.6368715083798883                                                              \n",
      "SCORE:                                                                          \n",
      "0.6368715083798883                                                              \n",
      "SCORE:                                                                          \n",
      "0.8212290502793296                                                              \n",
      "SCORE:                                                                          \n",
      "0.6368715083798883                                                              \n",
      "SCORE:                                                                          \n",
      "0.7877094972067039                                                              \n",
      "SCORE:                                                                          \n",
      "0.7430167597765364                                                              \n",
      "SCORE:                                                                          \n",
      "0.7486033519553073                                                              \n",
      "SCORE:                                                                          \n",
      "0.6368715083798883                                                              \n",
      "SCORE:                                                                          \n",
      "0.6368715083798883                                                              \n",
      "SCORE:                                                                          \n",
      "0.7430167597765364                                                              \n",
      "SCORE:                                                                          \n",
      "0.6368715083798883                                                              \n",
      "SCORE:                                                                          \n",
      "0.6368715083798883                                                              \n",
      "100%|██████| 100/100 [00:07<00:00, 13.47trial/s, best loss: -0.8212290502793296]\n"
     ]
    }
   ],
   "source": [
    "trials = Trials()\n",
    "\n",
    "best_hyperparams = fmin(fn = objective,\n",
    "                        space = space,\n",
    "                        algo = tpe.suggest,\n",
    "                        max_evals = 100,\n",
    "                        trials = trials)"
   ]
  },
  {
   "cell_type": "markdown",
   "id": "a421c576",
   "metadata": {},
   "source": [
    "- Here best_hyperparams gives us the optimal parameters that best fit model and better loss function value.\n",
    "\n",
    "- trials is an object that contains or stores all the relevant information such as hyperparameter, loss-functions for each set of parameters that the model has been trained.\n",
    "\n",
    "- ‘fmin’ is an optimization function that minimizes the loss function and takes in 4 inputs - fn, space, algo and max_evals.\n",
    "\n"
   ]
  },
  {
   "cell_type": "code",
   "execution_count": 31,
   "id": "ce0a84c7",
   "metadata": {},
   "outputs": [
    {
     "name": "stdout",
     "output_type": "stream",
     "text": [
      "The best hyperparameters are :  \n",
      "\n",
      "{'colsample_bytree': 0.5370349918217041, 'gamma': 5.608870758199104, 'max_depth': 15.0, 'min_child_weight': 7.0, 'reg_alpha': 48.0, 'reg_lambda': 0.3036158352299454}\n"
     ]
    }
   ],
   "source": [
    "print(\"The best hyperparameters are : \",\"\\n\")\n",
    "print(best_hyperparams)"
   ]
  },
  {
   "cell_type": "markdown",
   "id": "ceb4c2b1",
   "metadata": {},
   "source": [
    "### Step6. Run XGBoost with the tuned parameter"
   ]
  },
  {
   "cell_type": "code",
   "execution_count": 32,
   "id": "150a8d3c",
   "metadata": {},
   "outputs": [
    {
     "data": {
      "text/plain": [
       "XGBClassifier(base_score=0.5, booster='gbtree', colsample_bylevel=1,\n",
       "              colsample_bynode=1, colsample_bytree=0.5370349918217041,\n",
       "              enable_categorical=False, eval_metric='logloss',\n",
       "              gamma=5.608870758199104, gpu_id=-1, importance_type=None,\n",
       "              interaction_constraints='', learning_rate=0.300000012,\n",
       "              max_delta_step=0, max_depth=15, min_child_weight=7.0, missing=nan,\n",
       "              monotone_constraints='()', n_estimators=100, n_jobs=16,\n",
       "              num_parallel_tree=1, predictor='auto', random_state=0,\n",
       "              reg_alpha=48.0, reg_lambda=0.3036158352299454, scale_pos_weight=1,\n",
       "              subsample=1, tree_method='exact', use_label_encoder=False,\n",
       "              validate_parameters=1, verbosity=None)"
      ]
     },
     "execution_count": 32,
     "metadata": {},
     "output_type": "execute_result"
    }
   ],
   "source": [
    "# declare parameters\n",
    "params = {\n",
    "            'objective':'binary:logistic',\n",
    "            'n_estimators':100,\n",
    "            'eval_metric':'logloss',\n",
    "            'use_label_encoder':False\n",
    "        }         \n",
    "params.update(best_hyperparams)\n",
    "\n",
    "# changing datatypes for integer hyper parameters\n",
    "int_hp = [\"max_depth\"]\n",
    "for h in int_hp:\n",
    "    params[h] = int(params[h])\n",
    "\n",
    "# instantiate the classifier \n",
    "xgb_best = xgb.XGBClassifier(**params)\n",
    "\n",
    "\n",
    "# fit the classifier to the training data\n",
    "xgb_best.fit(x_train, y_train)"
   ]
  },
  {
   "cell_type": "code",
   "execution_count": 33,
   "id": "a345bc28",
   "metadata": {},
   "outputs": [
    {
     "name": "stdout",
     "output_type": "stream",
     "text": [
      "XGBClassifier(base_score=0.5, booster='gbtree', colsample_bylevel=1,\n",
      "              colsample_bynode=1, colsample_bytree=0.5370349918217041,\n",
      "              enable_categorical=False, eval_metric='logloss',\n",
      "              gamma=5.608870758199104, gpu_id=-1, importance_type=None,\n",
      "              interaction_constraints='', learning_rate=0.300000012,\n",
      "              max_delta_step=0, max_depth=15, min_child_weight=7.0, missing=nan,\n",
      "              monotone_constraints='()', n_estimators=100, n_jobs=16,\n",
      "              num_parallel_tree=1, predictor='auto', random_state=0,\n",
      "              reg_alpha=48.0, reg_lambda=0.3036158352299454, scale_pos_weight=1,\n",
      "              subsample=1, tree_method='exact', use_label_encoder=False,\n",
      "              validate_parameters=1, verbosity=None)\n"
     ]
    }
   ],
   "source": [
    "# we can view the parameters of the xgb trained model as follows -\n",
    "\n",
    "print(xgb_best)"
   ]
  },
  {
   "cell_type": "code",
   "execution_count": null,
   "id": "0d56c53f",
   "metadata": {},
   "outputs": [],
   "source": []
  },
  {
   "cell_type": "markdown",
   "id": "46d3c46c",
   "metadata": {},
   "source": [
    "### Step6. Make predictions with XGBoost Classifier"
   ]
  },
  {
   "cell_type": "code",
   "execution_count": 34,
   "id": "d23968aa",
   "metadata": {},
   "outputs": [
    {
     "data": {
      "text/plain": [
       "array([0, 1, 0, 0, 0, 0, 0, 0, 0, 0, 0, 1, 1, 0, 0, 0, 1, 0, 1, 0, 0, 1,\n",
       "       0, 0, 0, 0, 0, 0, 1, 0, 0, 0, 1, 0, 0, 1, 0, 0, 1, 0, 0, 1, 0, 0,\n",
       "       0, 1, 1, 0, 1, 1, 0, 0, 1, 0, 0, 0, 0, 0, 0, 0, 0, 0, 0, 1, 0, 1,\n",
       "       0, 1, 0, 1, 1, 0, 0, 0, 0, 0, 1, 0, 1, 0, 1, 0, 0, 1, 1, 0, 1, 1,\n",
       "       0, 1, 0, 0, 1, 0, 0, 0, 0, 0, 0, 0, 0, 1, 0, 1, 0, 1, 0, 0, 0, 1,\n",
       "       1, 0, 1, 0, 1, 0, 0, 1, 0, 1, 0, 1, 0, 1, 1, 0, 1, 0, 1, 0, 0, 0,\n",
       "       0, 1, 0, 0, 0, 0, 0, 0, 1, 1, 1, 0, 0, 0, 1, 0, 0, 1, 0, 1, 0, 0,\n",
       "       1, 0, 1, 0, 0, 0, 0, 1, 0, 0, 1, 1, 0, 0, 0, 0, 0, 0, 1, 1, 0, 1,\n",
       "       0, 0, 0])"
      ]
     },
     "execution_count": 34,
     "metadata": {},
     "output_type": "execute_result"
    }
   ],
   "source": [
    "# make predictions on test data\n",
    "y_pred = xgb_best.predict(x_test)\n",
    "y_pred"
   ]
  },
  {
   "cell_type": "markdown",
   "id": "812276a8",
   "metadata": {},
   "source": [
    "### Step7. Check Accuracy"
   ]
  },
  {
   "cell_type": "code",
   "execution_count": 35,
   "id": "61bf4ede",
   "metadata": {},
   "outputs": [
    {
     "name": "stdout",
     "output_type": "stream",
     "text": [
      "XGBoost model accuracy score: 0.7989\n"
     ]
    }
   ],
   "source": [
    "# compute and print accuracy score\n",
    "\n",
    "from sklearn.metrics import accuracy_score\n",
    "\n",
    "print('XGBoost model accuracy score: {0:0.4f}'. format(accuracy_score(y_test, y_pred)))\n"
   ]
  },
  {
   "cell_type": "markdown",
   "id": "c2779a00",
   "metadata": {},
   "source": [
    "### Step8. Feature importance with XGBoost\n",
    "XGBoost provides a way to examine the importance of each feature in the original dataset within the model.\n",
    "It involves counting the number of times each feature is split on across all boosting trees in the model."
   ]
  },
  {
   "cell_type": "code",
   "execution_count": 36,
   "id": "0bb5c0ad",
   "metadata": {},
   "outputs": [
    {
     "data": {
      "image/png": "[encoded data removed]",
      "text/plain": [
       "<Figure size 432x288 with 1 Axes>"
      ]
     },
     "metadata": {
      "needs_background": "light"
     },
     "output_type": "display_data"
    },
    {
     "data": {
      "text/plain": [
       "<Figure size 1152x864 with 0 Axes>"
      ]
     },
     "metadata": {},
     "output_type": "display_data"
    }
   ],
   "source": [
    "xgb.plot_importance(xgb_best)\n",
    "plt.figure(figsize = (16, 12))\n",
    "plt.show()"
   ]
  },
  {
   "cell_type": "code",
   "execution_count": null,
   "id": "a23cd12e",
   "metadata": {},
   "outputs": [],
   "source": []
  },
  {
   "cell_type": "code",
   "execution_count": null,
   "id": "bc7ea80d",
   "metadata": {},
   "outputs": [],
   "source": []
  },
  {
   "cell_type": "code",
   "execution_count": null,
   "id": "0da1ea51",
   "metadata": {},
   "outputs": [],
   "source": []
  },
  {
   "cell_type": "code",
   "execution_count": null,
   "id": "6141b222",
   "metadata": {},
   "outputs": [],
   "source": []
  }
 ],
 "metadata": {
  "kernelspec": {
   "display_name": "Python 3 (ipykernel)",
   "language": "python",
   "name": "python3"
  },
  "language_info": {
   "codemirror_mode": {
    "name": "ipython",
    "version": 3
   },
   "file_extension": ".py",
   "mimetype": "text/x-python",
   "name": "python",
   "nbconvert_exporter": "python",
   "pygments_lexer": "ipython3",
   "version": "3.9.7"
  }
 },
 "nbformat": 4,
 "nbformat_minor": 5
}
